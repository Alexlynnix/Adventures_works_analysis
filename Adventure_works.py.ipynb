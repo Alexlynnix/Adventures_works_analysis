{
 "cells": [
  {
   "cell_type": "markdown",
   "id": "b20ba99e",
   "metadata": {},
   "source": [
    "# Importing the sql database into jupyter and establishing connection"
   ]
  },
  {
   "cell_type": "code",
   "execution_count": 216,
   "id": "87365a06",
   "metadata": {
    "scrolled": true
   },
   "outputs": [
    {
     "name": "stdout",
     "output_type": "stream",
     "text": [
      "Tables in the database:                        name\n",
      "0                 FACTsales\n",
      "1              DimCalendars\n",
      "2           sqlite_sequence\n",
      "3      DimProductCategories\n",
      "4  DimProduct_Subcategories\n",
      "5               DimProducts\n",
      "6            DimTerritories\n",
      "7                FACTReturn\n",
      "8               DimCustomer\n",
      "  OrderDate   StockDate OrderNumber  ProductKey  CustomerKey  TerritoryKey  \\\n",
      "0  1/1/2017  12/13/2003     SO61285         529        23791             1   \n",
      "1  1/1/2017   9/24/2003     SO61285         214        23791             1   \n",
      "2  1/1/2017    9/4/2003     SO61285         540        23791             1   \n",
      "3  1/1/2017   9/28/2003     SO61301         529        16747             1   \n",
      "4  1/1/2017  10/21/2003     SO61301         377        16747             1   \n",
      "\n",
      "   OrderLineItem  OrderQuantity  \n",
      "0              2              2  \n",
      "1              3              1  \n",
      "2              1              1  \n",
      "3              2              2  \n",
      "4              1              1  \n"
     ]
    }
   ],
   "source": [
    "import sqlite3\n",
    "import pandas as pd\n",
    "import numpy as np\n",
    "from scipy import stats\n",
    "import matplotlib.pyplot as plt \n",
    "path = r\"C:\\Users\\alexl\\csv_sql.db\"\n",
    "conn = sqlite3.connect(path)\n",
    "query = \"SELECT name FROM sqlite_master WHERE type='table';\"\n",
    "df_tables = pd.read_sql_query(query, conn)\n",
    "print(\"Tables in the database:\", df_tables)\n",
    "\n",
    "## loading a specific table from the database into a dataframe\n",
    "table_name = 'FACTsales'\n",
    "df = pd.read_sql_query(f\"SELECT * FROM {table_name}\", conn)\n",
    "print(df.head())\n",
    "\n"
   ]
  },
  {
   "cell_type": "markdown",
   "id": "fa56f936",
   "metadata": {},
   "source": [
    "## Loading data into a dataframe"
   ]
  },
  {
   "cell_type": "code",
   "execution_count": 217,
   "id": "fa8dbbf0",
   "metadata": {},
   "outputs": [
    {
     "name": "stdout",
     "output_type": "stream",
     "text": [
      "data was suscessfully loaded into Dataframe.\n"
     ]
    }
   ],
   "source": [
    "### these queries loads the the table from the sql database tabes into the pandas dataframe\n",
    "\n",
    "def query_to_dataframe(query):\n",
    "    return pd.read_sql_query(query, conn)\n",
    "\n",
    "FS_df = query_to_dataframe(\"select * from FACTsales\")\n",
    "FR_df = query_to_dataframe(\"select * from FACTReturn\")\n",
    "DP_df = query_to_dataframe(\"select * from DimProducts\")\n",
    "DT_df = query_to_dataframe(\"select * from DimTerritories\")\n",
    "DCAL_df = query_to_dataframe(\"select * from  DimCalendars\")\n",
    "DCU_df = query_to_dataframe(\"select * from  DimCustomer\")\n",
    "DPC_df = query_to_dataframe(\"select * from  DimProductCategories\")\n",
    "DPSC_df = query_to_dataframe(\"select * from  DimProduct_Subcategories\")\n",
    "\n",
    "print(\"data was suscessfully loaded into Dataframe.\")"
   ]
  },
  {
   "cell_type": "markdown",
   "id": "ee96669a",
   "metadata": {},
   "source": [
    "### Data Preprocessing steps"
   ]
  },
  {
   "cell_type": "code",
   "execution_count": 218,
   "id": "13d021f8",
   "metadata": {},
   "outputs": [
    {
     "data": {
      "text/html": [
       "<div>\n",
       "<style scoped>\n",
       "    .dataframe tbody tr th:only-of-type {\n",
       "        vertical-align: middle;\n",
       "    }\n",
       "\n",
       "    .dataframe tbody tr th {\n",
       "        vertical-align: top;\n",
       "    }\n",
       "\n",
       "    .dataframe thead th {\n",
       "        text-align: right;\n",
       "    }\n",
       "</style>\n",
       "<table border=\"1\" class=\"dataframe\">\n",
       "  <thead>\n",
       "    <tr style=\"text-align: right;\">\n",
       "      <th></th>\n",
       "      <th>OrderDate</th>\n",
       "      <th>StockDate</th>\n",
       "      <th>OrderNumber</th>\n",
       "      <th>ProductKey</th>\n",
       "      <th>CustomerKey</th>\n",
       "      <th>TerritoryKey</th>\n",
       "      <th>OrderLineItem</th>\n",
       "      <th>OrderQuantity</th>\n",
       "    </tr>\n",
       "  </thead>\n",
       "  <tbody>\n",
       "    <tr>\n",
       "      <th>0</th>\n",
       "      <td>1/1/2017</td>\n",
       "      <td>12/13/2003</td>\n",
       "      <td>SO61285</td>\n",
       "      <td>529</td>\n",
       "      <td>23791</td>\n",
       "      <td>1</td>\n",
       "      <td>2</td>\n",
       "      <td>2</td>\n",
       "    </tr>\n",
       "    <tr>\n",
       "      <th>1</th>\n",
       "      <td>1/1/2017</td>\n",
       "      <td>9/24/2003</td>\n",
       "      <td>SO61285</td>\n",
       "      <td>214</td>\n",
       "      <td>23791</td>\n",
       "      <td>1</td>\n",
       "      <td>3</td>\n",
       "      <td>1</td>\n",
       "    </tr>\n",
       "    <tr>\n",
       "      <th>2</th>\n",
       "      <td>1/1/2017</td>\n",
       "      <td>9/4/2003</td>\n",
       "      <td>SO61285</td>\n",
       "      <td>540</td>\n",
       "      <td>23791</td>\n",
       "      <td>1</td>\n",
       "      <td>1</td>\n",
       "      <td>1</td>\n",
       "    </tr>\n",
       "    <tr>\n",
       "      <th>3</th>\n",
       "      <td>1/1/2017</td>\n",
       "      <td>9/28/2003</td>\n",
       "      <td>SO61301</td>\n",
       "      <td>529</td>\n",
       "      <td>16747</td>\n",
       "      <td>1</td>\n",
       "      <td>2</td>\n",
       "      <td>2</td>\n",
       "    </tr>\n",
       "    <tr>\n",
       "      <th>4</th>\n",
       "      <td>1/1/2017</td>\n",
       "      <td>10/21/2003</td>\n",
       "      <td>SO61301</td>\n",
       "      <td>377</td>\n",
       "      <td>16747</td>\n",
       "      <td>1</td>\n",
       "      <td>1</td>\n",
       "      <td>1</td>\n",
       "    </tr>\n",
       "  </tbody>\n",
       "</table>\n",
       "</div>"
      ],
      "text/plain": [
       "  OrderDate   StockDate OrderNumber  ProductKey  CustomerKey  TerritoryKey  \\\n",
       "0  1/1/2017  12/13/2003     SO61285         529        23791             1   \n",
       "1  1/1/2017   9/24/2003     SO61285         214        23791             1   \n",
       "2  1/1/2017    9/4/2003     SO61285         540        23791             1   \n",
       "3  1/1/2017   9/28/2003     SO61301         529        16747             1   \n",
       "4  1/1/2017  10/21/2003     SO61301         377        16747             1   \n",
       "\n",
       "   OrderLineItem  OrderQuantity  \n",
       "0              2              2  \n",
       "1              3              1  \n",
       "2              1              1  \n",
       "3              2              2  \n",
       "4              1              1  "
      ]
     },
     "execution_count": 218,
     "metadata": {},
     "output_type": "execute_result"
    }
   ],
   "source": [
    "FS_df.head()"
   ]
  },
  {
   "cell_type": "code",
   "execution_count": 219,
   "id": "b68def97",
   "metadata": {},
   "outputs": [
    {
     "data": {
      "text/html": [
       "<div>\n",
       "<style scoped>\n",
       "    .dataframe tbody tr th:only-of-type {\n",
       "        vertical-align: middle;\n",
       "    }\n",
       "\n",
       "    .dataframe tbody tr th {\n",
       "        vertical-align: top;\n",
       "    }\n",
       "\n",
       "    .dataframe thead th {\n",
       "        text-align: right;\n",
       "    }\n",
       "</style>\n",
       "<table border=\"1\" class=\"dataframe\">\n",
       "  <thead>\n",
       "    <tr style=\"text-align: right;\">\n",
       "      <th></th>\n",
       "      <th>ReturnIndex</th>\n",
       "      <th>ReturnDate</th>\n",
       "      <th>TerritoryKey</th>\n",
       "      <th>ProductKey</th>\n",
       "      <th>ReturnQuantity</th>\n",
       "    </tr>\n",
       "  </thead>\n",
       "  <tbody>\n",
       "    <tr>\n",
       "      <th>0</th>\n",
       "      <td>1</td>\n",
       "      <td>1/18/2015</td>\n",
       "      <td>9</td>\n",
       "      <td>312</td>\n",
       "      <td>1</td>\n",
       "    </tr>\n",
       "    <tr>\n",
       "      <th>1</th>\n",
       "      <td>2</td>\n",
       "      <td>1/18/2015</td>\n",
       "      <td>10</td>\n",
       "      <td>310</td>\n",
       "      <td>1</td>\n",
       "    </tr>\n",
       "    <tr>\n",
       "      <th>2</th>\n",
       "      <td>3</td>\n",
       "      <td>1/21/2015</td>\n",
       "      <td>8</td>\n",
       "      <td>346</td>\n",
       "      <td>1</td>\n",
       "    </tr>\n",
       "    <tr>\n",
       "      <th>3</th>\n",
       "      <td>4</td>\n",
       "      <td>1/22/2015</td>\n",
       "      <td>4</td>\n",
       "      <td>311</td>\n",
       "      <td>1</td>\n",
       "    </tr>\n",
       "    <tr>\n",
       "      <th>4</th>\n",
       "      <td>5</td>\n",
       "      <td>2/2/2015</td>\n",
       "      <td>6</td>\n",
       "      <td>312</td>\n",
       "      <td>1</td>\n",
       "    </tr>\n",
       "  </tbody>\n",
       "</table>\n",
       "</div>"
      ],
      "text/plain": [
       "   ReturnIndex ReturnDate TerritoryKey ProductKey ReturnQuantity\n",
       "0            1  1/18/2015            9        312              1\n",
       "1            2  1/18/2015           10        310              1\n",
       "2            3  1/21/2015            8        346              1\n",
       "3            4  1/22/2015            4        311              1\n",
       "4            5   2/2/2015            6        312              1"
      ]
     },
     "execution_count": 219,
     "metadata": {},
     "output_type": "execute_result"
    }
   ],
   "source": [
    "FR_df.head()"
   ]
  },
  {
   "cell_type": "code",
   "execution_count": 220,
   "id": "598cc09e",
   "metadata": {},
   "outputs": [
    {
     "data": {
      "text/plain": [
       "OrderDate        0\n",
       "StockDate        0\n",
       "OrderNumber      0\n",
       "ProductKey       0\n",
       "CustomerKey      0\n",
       "TerritoryKey     0\n",
       "OrderLineItem    0\n",
       "OrderQuantity    0\n",
       "dtype: int64"
      ]
     },
     "execution_count": 220,
     "metadata": {},
     "output_type": "execute_result"
    }
   ],
   "source": [
    "## checking for isnull values in the dataframe\n",
    "\n",
    "FS_df.isnull().sum()"
   ]
  },
  {
   "cell_type": "code",
   "execution_count": 221,
   "id": "13c37743",
   "metadata": {
    "scrolled": true
   },
   "outputs": [
    {
     "name": "stdout",
     "output_type": "stream",
     "text": [
      "<class 'pandas.core.frame.DataFrame'>\n",
      "RangeIndex: 29481 entries, 0 to 29480\n",
      "Data columns (total 8 columns):\n",
      " #   Column         Non-Null Count  Dtype \n",
      "---  ------         --------------  ----- \n",
      " 0   OrderDate      29481 non-null  object\n",
      " 1   StockDate      29481 non-null  object\n",
      " 2   OrderNumber    29481 non-null  object\n",
      " 3   ProductKey     29481 non-null  int64 \n",
      " 4   CustomerKey    29481 non-null  int64 \n",
      " 5   TerritoryKey   29481 non-null  int64 \n",
      " 6   OrderLineItem  29481 non-null  int64 \n",
      " 7   OrderQuantity  29481 non-null  int64 \n",
      "dtypes: int64(5), object(3)\n",
      "memory usage: 1.8+ MB\n"
     ]
    }
   ],
   "source": [
    "FS_df.info()"
   ]
  },
  {
   "cell_type": "code",
   "execution_count": 222,
   "id": "a6148e6f",
   "metadata": {},
   "outputs": [
    {
     "name": "stdout",
     "output_type": "stream",
     "text": [
      "<class 'pandas.core.frame.DataFrame'>\n",
      "RangeIndex: 18148 entries, 0 to 18147\n",
      "Data columns (total 13 columns):\n",
      " #   Column          Non-Null Count  Dtype \n",
      "---  ------          --------------  ----- \n",
      " 0   CustomerKey     18148 non-null  int64 \n",
      " 1   Prefix          18018 non-null  object\n",
      " 2   FirstName       18148 non-null  object\n",
      " 3   LastName        18148 non-null  object\n",
      " 4   BirthDate       18148 non-null  object\n",
      " 5   MaritalStatus   18148 non-null  object\n",
      " 6   Gender          18148 non-null  object\n",
      " 7   EmailAddress    18148 non-null  object\n",
      " 8   AnnualIncome    18148 non-null  object\n",
      " 9   TotalChildren   18148 non-null  int64 \n",
      " 10  EducationLevel  18148 non-null  object\n",
      " 11  Occupation      18148 non-null  object\n",
      " 12  HomeOwner       18148 non-null  object\n",
      "dtypes: int64(2), object(11)\n",
      "memory usage: 1.8+ MB\n"
     ]
    }
   ],
   "source": [
    "DCU_df.info()"
   ]
  },
  {
   "cell_type": "markdown",
   "id": "e5cf105e",
   "metadata": {},
   "source": [
    "## Ensuring that the columns have the appropriate data types"
   ]
  },
  {
   "cell_type": "code",
   "execution_count": 223,
   "id": "894e7994",
   "metadata": {},
   "outputs": [],
   "source": [
    "### converting the string columns to a datetime data type\n",
    "\n",
    "FS_df['OrderDate'] = pd.to_datetime(FS_df['OrderDate'], errors='coerce')\n",
    "FS_df['StockDate'] = pd.to_datetime(FS_df['StockDate'], errors='coerce')\n",
    "DCAL_df['OrderDate'] = pd.to_datetime(DCAL_df['OrderDate'], errors='coerce')\n",
    "\n",
    "## Ensuring that numerical columns are properly typed\n",
    "\n",
    "FS_df['OrderQuantity'] = pd.to_numeric(FS_df['OrderQuantity'], errors='coerce').astype(int)\n",
    "FR_df['ReturnQuantity'] = pd.to_numeric(FR_df['ReturnQuantity'], errors='coerce').astype(int)\n"
   ]
  },
  {
   "cell_type": "code",
   "execution_count": 224,
   "id": "b468207b",
   "metadata": {},
   "outputs": [
    {
     "name": "stdout",
     "output_type": "stream",
     "text": [
      "<class 'pandas.core.frame.DataFrame'>\n",
      "RangeIndex: 29481 entries, 0 to 29480\n",
      "Data columns (total 8 columns):\n",
      " #   Column         Non-Null Count  Dtype         \n",
      "---  ------         --------------  -----         \n",
      " 0   OrderDate      29481 non-null  datetime64[ns]\n",
      " 1   StockDate      29481 non-null  datetime64[ns]\n",
      " 2   OrderNumber    29481 non-null  object        \n",
      " 3   ProductKey     29481 non-null  int64         \n",
      " 4   CustomerKey    29481 non-null  int64         \n",
      " 5   TerritoryKey   29481 non-null  int64         \n",
      " 6   OrderLineItem  29481 non-null  int64         \n",
      " 7   OrderQuantity  29481 non-null  int32         \n",
      "dtypes: datetime64[ns](2), int32(1), int64(4), object(1)\n",
      "memory usage: 1.7+ MB\n"
     ]
    }
   ],
   "source": [
    "## Confirming that the datatype has changed\n",
    "\n",
    "FS_df.info()"
   ]
  },
  {
   "cell_type": "code",
   "execution_count": 225,
   "id": "44ae5895",
   "metadata": {},
   "outputs": [
    {
     "name": "stdout",
     "output_type": "stream",
     "text": [
      "<class 'pandas.core.frame.DataFrame'>\n",
      "RangeIndex: 1809 entries, 0 to 1808\n",
      "Data columns (total 5 columns):\n",
      " #   Column          Non-Null Count  Dtype \n",
      "---  ------          --------------  ----- \n",
      " 0   ReturnIndex     1809 non-null   int64 \n",
      " 1   ReturnDate      1809 non-null   object\n",
      " 2   TerritoryKey    1809 non-null   object\n",
      " 3   ProductKey      1809 non-null   object\n",
      " 4   ReturnQuantity  1809 non-null   int32 \n",
      "dtypes: int32(1), int64(1), object(3)\n",
      "memory usage: 63.7+ KB\n"
     ]
    }
   ],
   "source": [
    "FR_df.info()"
   ]
  },
  {
   "cell_type": "markdown",
   "id": "17a75c3c",
   "metadata": {},
   "source": [
    "## Referential Integrity"
   ]
  },
  {
   "cell_type": "code",
   "execution_count": 226,
   "id": "548c0d41",
   "metadata": {},
   "outputs": [],
   "source": [
    "## check for valid productkey in the products table which connects to the factsales table\n",
    "\n",
    "invalid_product_keys = FS_df[~FS_df['ProductKey']. isin(DP_df['ProductKey'])]\n",
    "if not invalid_product_keys.empty:\n",
    "    print(\"invalid product key references found in FS_df \")\n",
    "\n",
    "## check for valid customerkey references in customers\n",
    "\n",
    "invalid_customer_keys = FS_df[~FS_df['CustomerKey']. isin(DCU_df['CustomerKey'])]\n",
    "if not invalid_customer_keys.empty:\n",
    "    print(\"invalid customer key references found in FS_df \")"
   ]
  },
  {
   "cell_type": "code",
   "execution_count": 227,
   "id": "12fd79a9",
   "metadata": {},
   "outputs": [
    {
     "name": "stdout",
     "output_type": "stream",
     "text": [
      "<class 'pandas.core.frame.DataFrame'>\n",
      "RangeIndex: 18148 entries, 0 to 18147\n",
      "Data columns (total 13 columns):\n",
      " #   Column          Non-Null Count  Dtype \n",
      "---  ------          --------------  ----- \n",
      " 0   CustomerKey     18148 non-null  int64 \n",
      " 1   Prefix          18018 non-null  object\n",
      " 2   FirstName       18148 non-null  object\n",
      " 3   LastName        18148 non-null  object\n",
      " 4   BirthDate       18148 non-null  object\n",
      " 5   MaritalStatus   18148 non-null  object\n",
      " 6   Gender          18148 non-null  object\n",
      " 7   EmailAddress    18148 non-null  object\n",
      " 8   AnnualIncome    18148 non-null  object\n",
      " 9   TotalChildren   18148 non-null  int64 \n",
      " 10  EducationLevel  18148 non-null  object\n",
      " 11  Occupation      18148 non-null  object\n",
      " 12  HomeOwner       18148 non-null  object\n",
      "dtypes: int64(2), object(11)\n",
      "memory usage: 1.8+ MB\n"
     ]
    }
   ],
   "source": [
    "DCU_df.info()"
   ]
  },
  {
   "cell_type": "code",
   "execution_count": 228,
   "id": "264453f0",
   "metadata": {
    "scrolled": true
   },
   "outputs": [
    {
     "data": {
      "text/html": [
       "<div>\n",
       "<style scoped>\n",
       "    .dataframe tbody tr th:only-of-type {\n",
       "        vertical-align: middle;\n",
       "    }\n",
       "\n",
       "    .dataframe tbody tr th {\n",
       "        vertical-align: top;\n",
       "    }\n",
       "\n",
       "    .dataframe thead th {\n",
       "        text-align: right;\n",
       "    }\n",
       "</style>\n",
       "<table border=\"1\" class=\"dataframe\">\n",
       "  <thead>\n",
       "    <tr style=\"text-align: right;\">\n",
       "      <th></th>\n",
       "      <th>CustomerKey</th>\n",
       "      <th>Prefix</th>\n",
       "      <th>FirstName</th>\n",
       "      <th>LastName</th>\n",
       "      <th>BirthDate</th>\n",
       "      <th>MaritalStatus</th>\n",
       "      <th>Gender</th>\n",
       "      <th>EmailAddress</th>\n",
       "      <th>AnnualIncome</th>\n",
       "      <th>TotalChildren</th>\n",
       "      <th>EducationLevel</th>\n",
       "      <th>Occupation</th>\n",
       "      <th>HomeOwner</th>\n",
       "    </tr>\n",
       "  </thead>\n",
       "  <tbody>\n",
       "    <tr>\n",
       "      <th>0</th>\n",
       "      <td>11000</td>\n",
       "      <td>MR.</td>\n",
       "      <td>JON</td>\n",
       "      <td>YANG</td>\n",
       "      <td>4/8/1966</td>\n",
       "      <td>M</td>\n",
       "      <td>M</td>\n",
       "      <td>jon24@adventure-works.com</td>\n",
       "      <td>$90,000</td>\n",
       "      <td>2</td>\n",
       "      <td>Bachelors</td>\n",
       "      <td>Professional</td>\n",
       "      <td>Y</td>\n",
       "    </tr>\n",
       "    <tr>\n",
       "      <th>1</th>\n",
       "      <td>11001</td>\n",
       "      <td>MR.</td>\n",
       "      <td>EUGENE</td>\n",
       "      <td>HUANG</td>\n",
       "      <td>5/14/1965</td>\n",
       "      <td>S</td>\n",
       "      <td>M</td>\n",
       "      <td>eugene10@adventure-works.com</td>\n",
       "      <td>$60,000</td>\n",
       "      <td>3</td>\n",
       "      <td>Bachelors</td>\n",
       "      <td>Professional</td>\n",
       "      <td>N</td>\n",
       "    </tr>\n",
       "    <tr>\n",
       "      <th>2</th>\n",
       "      <td>11002</td>\n",
       "      <td>MR.</td>\n",
       "      <td>RUBEN</td>\n",
       "      <td>TORRES</td>\n",
       "      <td>8/12/1965</td>\n",
       "      <td>M</td>\n",
       "      <td>M</td>\n",
       "      <td>ruben35@adventure-works.com</td>\n",
       "      <td>$60,000</td>\n",
       "      <td>3</td>\n",
       "      <td>Bachelors</td>\n",
       "      <td>Professional</td>\n",
       "      <td>Y</td>\n",
       "    </tr>\n",
       "    <tr>\n",
       "      <th>3</th>\n",
       "      <td>11003</td>\n",
       "      <td>MS.</td>\n",
       "      <td>CHRISTY</td>\n",
       "      <td>ZHU</td>\n",
       "      <td>2/15/1968</td>\n",
       "      <td>S</td>\n",
       "      <td>F</td>\n",
       "      <td>christy12@adventure-works.com</td>\n",
       "      <td>$70,000</td>\n",
       "      <td>0</td>\n",
       "      <td>Bachelors</td>\n",
       "      <td>Professional</td>\n",
       "      <td>N</td>\n",
       "    </tr>\n",
       "    <tr>\n",
       "      <th>4</th>\n",
       "      <td>11004</td>\n",
       "      <td>MRS.</td>\n",
       "      <td>ELIZABETH</td>\n",
       "      <td>JOHNSON</td>\n",
       "      <td>8/8/1968</td>\n",
       "      <td>S</td>\n",
       "      <td>F</td>\n",
       "      <td>elizabeth5@adventure-works.com</td>\n",
       "      <td>$80,000</td>\n",
       "      <td>5</td>\n",
       "      <td>Bachelors</td>\n",
       "      <td>Professional</td>\n",
       "      <td>Y</td>\n",
       "    </tr>\n",
       "  </tbody>\n",
       "</table>\n",
       "</div>"
      ],
      "text/plain": [
       "   CustomerKey Prefix  FirstName LastName  BirthDate MaritalStatus Gender  \\\n",
       "0        11000    MR.        JON     YANG   4/8/1966             M      M   \n",
       "1        11001    MR.     EUGENE    HUANG  5/14/1965             S      M   \n",
       "2        11002    MR.      RUBEN   TORRES  8/12/1965             M      M   \n",
       "3        11003    MS.    CHRISTY      ZHU  2/15/1968             S      F   \n",
       "4        11004   MRS.  ELIZABETH  JOHNSON   8/8/1968             S      F   \n",
       "\n",
       "                     EmailAddress AnnualIncome  TotalChildren EducationLevel  \\\n",
       "0       jon24@adventure-works.com     $90,000               2      Bachelors   \n",
       "1    eugene10@adventure-works.com     $60,000               3      Bachelors   \n",
       "2     ruben35@adventure-works.com     $60,000               3      Bachelors   \n",
       "3   christy12@adventure-works.com     $70,000               0      Bachelors   \n",
       "4  elizabeth5@adventure-works.com     $80,000               5      Bachelors   \n",
       "\n",
       "     Occupation HomeOwner  \n",
       "0  Professional         Y  \n",
       "1  Professional         N  \n",
       "2  Professional         Y  \n",
       "3  Professional         N  \n",
       "4  Professional         Y  "
      ]
     },
     "execution_count": 228,
     "metadata": {},
     "output_type": "execute_result"
    }
   ],
   "source": [
    "DCU_df.head()"
   ]
  },
  {
   "cell_type": "code",
   "execution_count": 229,
   "id": "1fc98b09",
   "metadata": {},
   "outputs": [
    {
     "name": "stdout",
     "output_type": "stream",
     "text": [
      "<class 'pandas.core.frame.DataFrame'>\n",
      "RangeIndex: 293 entries, 0 to 292\n",
      "Data columns (total 11 columns):\n",
      " #   Column                 Non-Null Count  Dtype  \n",
      "---  ------                 --------------  -----  \n",
      " 0   ProductKey             293 non-null    int64  \n",
      " 1   ProductSubcategoryKey  293 non-null    int64  \n",
      " 2   ProductSKU             293 non-null    object \n",
      " 3   ProductName            293 non-null    object \n",
      " 4   ModelName              293 non-null    object \n",
      " 5   ProductDescription     293 non-null    object \n",
      " 6   ProductColor           293 non-null    object \n",
      " 7   ProductSize            293 non-null    object \n",
      " 8   ProductStyle           293 non-null    object \n",
      " 9   ProductCost            293 non-null    float64\n",
      " 10  ProductPrice           293 non-null    float64\n",
      "dtypes: float64(2), int64(2), object(7)\n",
      "memory usage: 25.3+ KB\n"
     ]
    }
   ],
   "source": [
    "DP_df.info()"
   ]
  },
  {
   "cell_type": "markdown",
   "id": "579c2af6",
   "metadata": {},
   "source": [
    "## Visualizing Outliers"
   ]
  },
  {
   "cell_type": "code",
   "execution_count": 230,
   "id": "0928e126",
   "metadata": {
    "scrolled": true
   },
   "outputs": [
    {
     "data": {
      "image/png": "[encoded data removed]",
      "text/plain": [
       "<Figure size 432x288 with 1 Axes>"
      ]
     },
     "metadata": {
      "needs_background": "light"
     },
     "output_type": "display_data"
    },
    {
     "data": {
      "image/png": "[encoded data removed]",
      "text/plain": [
       "<Figure size 432x288 with 1 Axes>"
      ]
     },
     "metadata": {
      "needs_background": "light"
     },
     "output_type": "display_data"
    }
   ],
   "source": [
    "\n",
    "# Boxplot for productprice to visualize outliers\n",
    "plt.figure(figsize=(6,4))\n",
    "plt.boxplot(DP_df['ProductPrice'].dropna())\n",
    "plt.title('Box Plot of product price')\n",
    "plt.xlabel('Product price')\n",
    "plt.show()\n",
    "\n",
    "\n",
    "plt.figure(figsize=(6, 4))\n",
    "# Scatter plot with the index of the DataFrame as x-axis and ProductPrice as y-axis\n",
    "plt.scatter(DP_df.index, DP_df['ProductPrice'].dropna())\n",
    "plt.title('Scatter Plot of Product Price')\n",
    "plt.xlabel('Index')\n",
    "plt.ylabel('Product Price')\n",
    "plt.grid(True)  # Add grid lines for better readability\n",
    "plt.show()"
   ]
  },
  {
   "cell_type": "markdown",
   "id": "d750adfb",
   "metadata": {},
   "source": [
    "## Removing the outliers"
   ]
  },
  {
   "cell_type": "code",
   "execution_count": 215,
   "id": "0838a489",
   "metadata": {},
   "outputs": [
    {
     "name": "stdout",
     "output_type": "stream",
     "text": [
      "Removed 16 outliers from ProductPrice.\n"
     ]
    }
   ],
   "source": [
    "def remove_outliers_iqr(df, column): #This function removes outliers from a specified column in a DataFrame using the Interquartile Range (IQR) method.\n",
    "    Q1 =df[column].quantile(0.25) #Calculate the first quartile (Q1), which is the 25th percentile of the data in the specified column.\n",
    "    Q3 =df[column].quantile(0.75) #Calculate the third quartile (Q3), which is the 75th percentile of the data in the specified column.\n",
    "    IQR =Q3-Q1 #Calculate the Interquartile Range (IQR). IQR is the range between Q1 and Q3, capturing the middle 50% of the data.\n",
    "    lower_bound =Q1 -1.5 * IQR #defines the upper and lower bounds, any number lower or higher than these lower and upper bound will be considered an outlier.\n",
    "    upper_bound =Q3 + 1.5 * IQR\n",
    "    \n",
    "    #filters off the outliers\n",
    "    filtered_df =df[(df[column]>= lower_bound) & (df[column] <= upper_bound)]\n",
    "    \n",
    "    print(f\"Removed {len(df) - len(filtered_df)} outliers from {column}.\")\n",
    "    return filtered_df\n",
    "\n",
    "# removing the outliers\n",
    "DP_df_clean = remove_outliers_iqr(DP_df, \"ProductPrice\")\n",
    "\n"
   ]
  }
 ],
 "metadata": {
  "kernelspec": {
   "display_name": "Python 3 (ipykernel)",
   "language": "python",
   "name": "python3"
  },
  "language_info": {
   "codemirror_mode": {
    "name": "ipython",
    "version": 3
   },
   "file_extension": ".py",
   "mimetype": "text/x-python",
   "name": "python",
   "nbconvert_exporter": "python",
   "pygments_lexer": "ipython3",
   "version": "3.9.7"
  }
 },
 "nbformat": 4,
 "nbformat_minor": 5
}
